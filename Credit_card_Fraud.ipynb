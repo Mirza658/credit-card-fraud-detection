{
  "nbformat": 4,
  "nbformat_minor": 0,
  "metadata": {
    "colab": {
      "provenance": []
    },
    "kernelspec": {
      "name": "python3",
      "display_name": "Python 3"
    },
    "language_info": {
      "name": "python"
    }
  },
  "cells": [
    {
      "cell_type": "code",
      "execution_count": null,
      "metadata": {
        "id": "bDbJiYx55aSD"
      },
      "outputs": [],
      "source": [
        "import pandas as pd\n",
        "import numpy as np\n",
        "import matplotlib.pyplot as plt\n",
        "import seaborn as sns"
      ]
    },
    {
      "cell_type": "code",
      "source": [
        "from google.colab import drive\n",
        "drive.mount('/content/drive')"
      ],
      "metadata": {
        "id": "Fi1L4OD55nzG"
      },
      "execution_count": null,
      "outputs": []
    },
    {
      "cell_type": "code",
      "source": [
        "creditcard = pd.read_csv('/content/creditcard.csv')"
      ],
      "metadata": {
        "id": "MKDKuueJ5v3v"
      },
      "execution_count": null,
      "outputs": []
    },
    {
      "cell_type": "code",
      "source": [
        "creditcard.head(3)"
      ],
      "metadata": {
        "id": "Ht6h0KHk56VF"
      },
      "execution_count": null,
      "outputs": []
    },
    {
      "cell_type": "code",
      "source": [
        "creditcard.shape"
      ],
      "metadata": {
        "id": "FRRqAy5m6MUD"
      },
      "execution_count": null,
      "outputs": []
    },
    {
      "cell_type": "code",
      "source": [
        "creditcard.drop_duplicates(subset= 'Time', inplace= True)"
      ],
      "metadata": {
        "id": "Mjvpml-g6TVR"
      },
      "execution_count": null,
      "outputs": []
    },
    {
      "cell_type": "code",
      "source": [
        "creditcard.isnull().sum()"
      ],
      "metadata": {
        "id": "wR-Q3jW46ger"
      },
      "execution_count": null,
      "outputs": []
    },
    {
      "cell_type": "code",
      "source": [
        "creditcard.isnull().sum().sum()"
      ],
      "metadata": {
        "id": "izFNoGVb6mMf"
      },
      "execution_count": null,
      "outputs": []
    },
    {
      "cell_type": "code",
      "source": [
        " creditcard.duplicated().sum()\n",
        " creditcard.isnull().sum().sum()"
      ],
      "metadata": {
        "id": "xiiQ__NR6s8-"
      },
      "execution_count": null,
      "outputs": []
    },
    {
      "cell_type": "code",
      "source": [
        "creditcard.head()"
      ],
      "metadata": {
        "id": "3NuD4yzP8z7S"
      },
      "execution_count": null,
      "outputs": []
    },
    {
      "cell_type": "code",
      "source": [
        "print(creditcard['Class'].value_counts())\n",
        "print((creditcard['Class'].value_counts(normalize=True)*100).round(2), \"%\")"
      ],
      "metadata": {
        "id": "e8-eBlb29MT3"
      },
      "execution_count": null,
      "outputs": []
    },
    {
      "cell_type": "code",
      "source": [
        "creditcard.describe().T"
      ],
      "metadata": {
        "id": "sRela2AfNwjH"
      },
      "execution_count": null,
      "outputs": []
    },
    {
      "cell_type": "code",
      "source": [
        "sns.countplot(x='Time', data=creditcard)\n",
        "plt.title('Fraud (1) vs. Normal (0)')\n",
        "plt.show()"
      ],
      "metadata": {
        "id": "qvJSCjjpXS2l"
      },
      "execution_count": null,
      "outputs": []
    },
    {
      "cell_type": "code",
      "source": [],
      "metadata": {
        "id": "EcsNIPtyXW-P"
      },
      "execution_count": null,
      "outputs": []
    }
  ]
}